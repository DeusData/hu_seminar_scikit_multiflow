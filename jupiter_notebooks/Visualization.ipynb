{
 "cells": [
  {
   "cell_type": "markdown",
   "id": "otherwise-calculator",
   "metadata": {},
   "source": [
    "# Anomaly Detection\n",
    "\n",
    "In this notebook, we will visualize the time series to help spot anomalies.\n",
    "\n",
    "<img src=\"https://box.hu-berlin.de/f/53a91798173c4dad9345/?dl=1\" width=800/>\n",
    "\n",
    "### Required Libraries"
   ]
  },
  {
   "cell_type": "code",
   "execution_count": 1,
   "id": "chubby-variation",
   "metadata": {},
   "outputs": [],
   "source": [
    "import numpy as np\n",
    "import pandas as pd\n",
    "import seaborn as sns\n",
    "import matplotlib.pyplot as plt\n",
    "import statsmodels.api as sm\n",
    "\n",
    "import plotly.graph_objects as go\n",
    "import os\n",
    "import fnmatch\n",
    "import zipfile\n",
    "\n",
    "import ipywidgets as widgets\n",
    "from ipywidgets import interact, interact_manual\n",
    "\n",
    "%matplotlib inline\n",
    "%config InlineBackend.figure_formats = {'png', 'retina'}"
   ]
  },
  {
   "cell_type": "markdown",
   "id": "chief-investment",
   "metadata": {},
   "source": [
    "### Utility functions"
   ]
  },
  {
   "cell_type": "code",
   "execution_count": 2,
   "id": "charged-increase",
   "metadata": {},
   "outputs": [],
   "source": [
    "def read_series(path, file, locations=None):   \n",
    "    print (path + \"/\"+ file)\n",
    "    data = pd.read_csv(path + \"/\"+ file, header=None)\n",
    "    data = np.array(data).flatten()\n",
    "    \n",
    "    # Extract file name\n",
    "    file_name = file.split('.')[0]\n",
    "    splits = file_name.split('_')\n",
    "    test_start = np.array(splits[-1])\n",
    "\n",
    "    # load the anomalies\n",
    "    if locations is None:\n",
    "        locations = pd.read_csv(\"phase_1/labels.csv\")\n",
    "        locations.set_index(\"Name\", inplace=True)\n",
    "\n",
    "    # Extract anomaly location\n",
    "    anomaly = [-1, -1]\n",
    "    if file_name in locations.index:\n",
    "        row = locations.loc[file_name]\n",
    "        anomaly = row[\"Pos\"]\n",
    "\n",
    "    return (file_name, int(test_start), data, anomaly)\n",
    "\n",
    "anomalie_files = \"phase_1\""
   ]
  },
  {
   "cell_type": "markdown",
   "id": "unauthorized-armenia",
   "metadata": {},
   "source": [
    "### Plotly\n",
    "\n",
    "We are using plotly, as it provides functionality to zoom into the time series"
   ]
  },
  {
   "cell_type": "code",
   "execution_count": 3,
   "id": "false-lesson",
   "metadata": {
    "scrolled": false
   },
   "outputs": [
    {
     "data": {
      "application/vnd.jupyter.widget-view+json": {
       "model_id": "fb024aff73a048e5970a14bdcbc77da6",
       "version_major": 2,
       "version_minor": 0
      },
      "text/plain": [
       "interactive(children=(Dropdown(description='file', options=('000_Anomaly_2500.csv', '001_Anomaly_4000.csv', '0…"
      ]
     },
     "metadata": {},
     "output_type": "display_data"
    }
   ],
   "source": [
    "@interact\n",
    "def show(file = np.sort(fnmatch.filter(os.listdir(anomalie_files), \"*.csv\"))):\n",
    "    name, test_start, data, anomaly = read_series(anomalie_files, file)\n",
    "        \n",
    "    # Create figure\n",
    "    layout = dict(xaxis = dict(showgrid=False, ticks='inside'),\n",
    "                  yaxis = dict(showgrid=False, ticks='inside'),\n",
    "                  font=dict(size=12),\n",
    "                )    \n",
    "    fig = go.Figure(layout=layout)\n",
    "\n",
    "    # Train\n",
    "    fig.add_trace(\n",
    "        go.Scatter(x=list(range(test_start)), y=data[:test_start],\n",
    "                   line=dict(width=1, color='green')))\n",
    "    \n",
    "    # Test\n",
    "    fig.add_trace(\n",
    "        go.Scatter(x=list(range(test_start, len(data))), y=data[test_start:],\n",
    "                   line=dict(width=1, color='blue')))\n",
    "    \n",
    "    # Anomaly\n",
    "    if anomaly>0:\n",
    "        fig.add_trace(\n",
    "            go.Scatter(x=list(range(anomaly-50, anomaly+50)), \n",
    "                       y=data[anomaly-50:anomaly+50], \n",
    "                       line=dict(width=1, color='red')))\n",
    "\n",
    "    # Set title\n",
    "    fig.update_layout(\n",
    "        title_text=\"Time Series with Range Slider and Selectors\",\n",
    "        autosize=True,\n",
    "        width=900,\n",
    "        height=400,\n",
    "    )\n",
    "\n",
    "    # Add range slider\n",
    "    fig.update_layout(\n",
    "        xaxis=dict(            \n",
    "            rangeslider=dict(\n",
    "                visible=True\n",
    "            ),\n",
    "            type=\"linear\"\n",
    "        )\n",
    "    )\n",
    "\n",
    "    # fig.update_layout(template=\"none\")\n",
    "    fig.show()"
   ]
  },
  {
   "cell_type": "code",
   "execution_count": null,
   "id": "40306e6c",
   "metadata": {},
   "outputs": [],
   "source": []
  }
 ],
 "metadata": {
  "kernelspec": {
   "display_name": "Python 3 (ipykernel)",
   "language": "python",
   "name": "python3"
  },
  "language_info": {
   "codemirror_mode": {
    "name": "ipython",
    "version": 3
   },
   "file_extension": ".py",
   "mimetype": "text/x-python",
   "name": "python",
   "nbconvert_exporter": "python",
   "pygments_lexer": "ipython3",
   "version": "3.8.12"
  }
 },
 "nbformat": 4,
 "nbformat_minor": 5
}
